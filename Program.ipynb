{
 "cells": [
  {
   "cell_type": "markdown",
   "metadata": {},
   "source": [
    "# Text Adventure!\n",
    "## Overview:\n",
    "* A text-based game adventure, you 'traverse' through randomly generated maps with monsters or shops.\n",
    "* In each map with monsters, you can either fight or use an item or run away.\n",
    "* When monsters are killed, you get experience and item drops. The base chance of an item dropping is set to 1 (100%) right now. Because items are stored in a player's backpack (dictionary structure), they would overwrite same-named items. So instead, the values are added together and 'stacked' such that if you had a potion that healed for 5 and got another potion that healed for 5, you would just have one potion that healed for 10.\n",
    "\n",
    "## Features\n",
    "* Object inheritance among the items, the 'actors' (player and monsters), and the locations allows for organization and general function calls.\n",
    "\n",
    "## Known Issues:\n",
    "* For some reason, sometimes input() does not call and no box is displayed for the user to write something. Hasn't happened in a while but just letting you know.\n",
    "* Game design - balancing needs to be done...\n"
   ]
  },
  {
   "cell_type": "markdown",
   "metadata": {},
   "source": [
    "## Run these blocks of code for the program functionality."
   ]
  },
  {
   "cell_type": "code",
   "execution_count": 1,
   "metadata": {},
   "outputs": [],
   "source": [
    "# import the files\n",
    "from World import *"
   ]
  },
  {
   "cell_type": "code",
   "execution_count": 2,
   "metadata": {},
   "outputs": [
    {
     "name": "stdout",
     "output_type": "stream",
     "text": [
      "---------------------------------------------------\n",
      "Entering Location: Home\n",
      "---------------------------------------------------\n",
      "Welcome home - enjoy your rest.\n",
      "Would you like to change your equipment? (Y/N)\tn\n",
      "Your health has been restored.\n",
      "Would you like to continue your journey? (Y/N)\tn\n",
      "Your story ends here. You went through 3 level(s).\n"
     ]
    }
   ],
   "source": [
    "world = World()\n",
    "world.play()"
   ]
  },
  {
   "cell_type": "markdown",
   "metadata": {},
   "source": [
    "# Testing\n",
    "Here are some testing methods, but this does not cover the entire code."
   ]
  },
  {
   "cell_type": "markdown",
   "metadata": {},
   "source": [
    "### Testing world creation"
   ]
  },
  {
   "cell_type": "code",
   "execution_count": null,
   "metadata": {},
   "outputs": [],
   "source": [
    "world = World()\n",
    "assert type(world) is World\n",
    "assert world.player is None # player has not been instantiated yet"
   ]
  },
  {
   "cell_type": "markdown",
   "metadata": {},
   "source": [
    "### Testing player functions"
   ]
  },
  {
   "cell_type": "code",
   "execution_count": null,
   "metadata": {},
   "outputs": [],
   "source": [
    "test_player = Player()\n",
    "assert type(test_player) is Player\n",
    "\n",
    "# test_player.show_stats()\n",
    "assert test_player.max_health == 50\n",
    "assert test_player.strength == 5\n",
    "assert test_player.speed == 5\n",
    "assert test_player.calculated_strength() == 5\n",
    "\n",
    "# Test adding a sword to inventory and equipping it.\n",
    "assert len(test_player.backpack)== 0\n",
    "test_player.add_item(Sword())\n",
    "assert len(test_player.backpack)== 1\n",
    "\n",
    "test_player.equip_item(\"sword\")\n",
    "assert (test_player.e_sword.name) == \"sword\"\n",
    "assert (test_player.e_sword.strength) == 5\n",
    "# test_player.show_stats()\n",
    "\n",
    "test_player.display_items()\n",
    "assert len(test_player.backpack)== 0\n",
    "assert (test_player.strength + test_player.e_sword.strength) == 10\n",
    "assert (test_player.calculated_strength()) == 10\n",
    "\n",
    "# Test adding armor to inventory and equipping it.\n",
    "assert len(test_player.backpack)== 0\n",
    "test_player.add_item(Armor())\n",
    "assert len(test_player.backpack)== 1\n",
    "\n",
    "test_player.equip_item(\"armor\")\n",
    "assert (test_player.e_armor.name) == \"armor\"\n",
    "assert (test_player.max_health + test_player.e_armor.strength) == 65\n",
    "assert (test_player.calculated_health()) == 65\n",
    "# test_player.show_stats()\n",
    "\n",
    "# Test equipping a second sword and the first one goes into your inventory\n",
    "test_player.add_item(Sword(name=\"5word\", strength=99))\n",
    "test_player.add_item(Armor(name=\"4rm0r\", strength=99, weight=1))\n",
    "test_player.equip_item(\"5word\")\n",
    "test_player.equip_item(\"4rm0r\")\n",
    "assert (test_player.e_sword.name) == \"5word\"\n",
    "assert (test_player.e_armor.name) == \"4rm0r\"\n",
    "#test_player.show_stats()"
   ]
  }
 ],
 "metadata": {
  "kernelspec": {
   "display_name": "Python 3",
   "language": "python",
   "name": "python3"
  },
  "language_info": {
   "codemirror_mode": {
    "name": "ipython",
    "version": 3
   },
   "file_extension": ".py",
   "mimetype": "text/x-python",
   "name": "python",
   "nbconvert_exporter": "python",
   "pygments_lexer": "ipython3",
   "version": "3.6.7"
  }
 },
 "nbformat": 4,
 "nbformat_minor": 2
}
